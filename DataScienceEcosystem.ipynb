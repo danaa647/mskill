{
 "cells": [
  {
   "cell_type": "markdown",
   "id": "3f458539",
   "metadata": {},
   "source": [
    "# Data Science Tools and Ecosystem"
   ]
  },
  {
   "cell_type": "markdown",
   "id": "5e321e57",
   "metadata": {},
   "source": [
    "In this notebook, Data Science Tools and Ecosystem are summarized."
   ]
  },
  {
   "cell_type": "markdown",
   "id": "cc52ba70",
   "metadata": {},
   "source": [
    "**Objectives**:\n",
    "* List popular languages for Data Science\n",
    "* List popular Data Science Tools\n",
    "* list some of the commonly used libraries used by Data Scientists\n",
    "* Share a notebook through GitHub\n",
    "* Insert code and markdown cells"
   ]
  },
  {
   "cell_type": "markdown",
   "id": "807a7311",
   "metadata": {},
   "source": [
    "Some of the popular languages that Data Scientists use are:\n",
    "1. Python\n",
    "2. R\n",
    "3. Julia\n",
    "4. Java"
   ]
  },
  {
   "cell_type": "markdown",
   "id": "eb731f6b",
   "metadata": {},
   "source": [
    "Some of the commonly used libraries used by Data Scientists include:\n",
    "1. Pandas\n",
    "2. Scikit-learn\n",
    "3. Matplotlib\n",
    "4. Numpy"
   ]
  },
  {
   "cell_type": "markdown",
   "id": "a3998844",
   "metadata": {},
   "source": [
    "|Data Science Tools|\n",
    "|--------------|\n",
    "|Jupyter Notebook|\n",
    "|RStudio|\n",
    "|Apache hadoop|"
   ]
  },
  {
   "cell_type": "markdown",
   "id": "f94888d2",
   "metadata": {},
   "source": [
    "### Below are a few examples of evaluating arithmetic expressions in Python"
   ]
  },
  {
   "cell_type": "code",
   "execution_count": 1,
   "id": "0c2872f3",
   "metadata": {},
   "outputs": [
    {
     "data": {
      "text/plain": [
       "17"
      ]
     },
     "execution_count": 1,
     "metadata": {},
     "output_type": "execute_result"
    }
   ],
   "source": [
    "(3*4)+5\n",
    "# This a simple arithmetic expression to mutiply then add integers"
   ]
  },
  {
   "cell_type": "code",
   "execution_count": 2,
   "id": "54bae0b7",
   "metadata": {},
   "outputs": [
    {
     "data": {
      "text/plain": [
       "3.3333333333333335"
      ]
     },
     "execution_count": 2,
     "metadata": {},
     "output_type": "execute_result"
    }
   ],
   "source": [
    "200/60\n",
    "#  This will convert 200 minutes to hours by diving by 60"
   ]
  },
  {
   "cell_type": "markdown",
   "id": "39900c17",
   "metadata": {},
   "source": [
    "## Author\n",
    "Lukman"
   ]
  },
  {
   "cell_type": "code",
   "execution_count": null,
   "id": "dfee03b7",
   "metadata": {},
   "outputs": [],
   "source": []
  }
 ],
 "metadata": {
  "kernelspec": {
   "display_name": "Python 3 (ipykernel)",
   "language": "python",
   "name": "python3"
  },
  "language_info": {
   "codemirror_mode": {
    "name": "ipython",
    "version": 3
   },
   "file_extension": ".py",
   "mimetype": "text/x-python",
   "name": "python",
   "nbconvert_exporter": "python",
   "pygments_lexer": "ipython3",
   "version": "3.10.9"
  }
 },
 "nbformat": 4,
 "nbformat_minor": 5
}
